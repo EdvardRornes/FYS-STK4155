{
 "cells": [
  {
   "cell_type": "markdown",
   "metadata": {},
   "source": [
    "# Exercises week 43\n",
    "\n",
    "**October 18-25, 2024**\n",
    "\n",
    "Date: **Deadline is Friday October 25 at midnight**\n"
   ]
  },
  {
   "cell_type": "markdown",
   "metadata": {},
   "source": [
    "# Overarching aims of the exercises this week\n",
    "\n",
    "The aim of the exercises this week is to train the neural network you implemented last week.\n",
    "\n",
    "To train neural networks, we use gradient descent, since there is no analytical expression for the optimal parameters. This means you will need to compute the gradient of the cost function wrt. the network parameters. And then you will need to implement some gradient method.\n",
    "\n",
    "You will begin by computing gradients for a network with one layer, then two layers, then any number of layers. Keeping track of the shapes and doing things step by step will be very important this week.\n",
    "\n",
    "We recommend that you do the exercises this week by editing and running this notebook file, as it includes some checks along the way that you have implemented the neural network correctly, and running small parts of the code at a time will be important for understanding the methods. If you have trouble running a notebook, you can run this notebook in google colab instead(https://colab.research.google.com/drive/1FfvbN0XlhV-lATRPyGRTtTBnJr3zNuHL#offline=true&sandboxMode=true), though we recommend that you set up VSCode and your python environment to run code like this locally.\n",
    "\n",
    "First, some setup code that you will need.\n"
   ]
  },
  {
   "cell_type": "code",
   "execution_count": 26,
   "metadata": {},
   "outputs": [],
   "source": [
    "import autograd.numpy as np  # We need to use this numpy wrapper to make automatic differentiation work later\n",
    "from autograd import grad, elementwise_grad\n",
    "from sklearn import datasets\n",
    "import matplotlib.pyplot as plt\n",
    "from sklearn.metrics import accuracy_score\n",
    "\n",
    "\n",
    "# Defining some activation functions\n",
    "def ReLU(z):\n",
    "    return np.where(z > 0, z, 0)\n",
    "\n",
    "\n",
    "# Derivative of the ReLU function\n",
    "def ReLU_der(z):\n",
    "    return np.where(z > 0, 1, 0)\n",
    "\n",
    "\n",
    "def sigmoid(z):\n",
    "    return 1 / (1 + np.exp(-z))\n",
    "\n",
    "\n",
    "def mse(predict, target):\n",
    "    return np.mean((predict - target) ** 2)"
   ]
  },
  {
   "cell_type": "markdown",
   "metadata": {},
   "source": [
    "# Exercise 1 - Understand the feed forward pass\n",
    "\n",
    "**a)** Complete last weeks' mandatory exercises if you haven't already.\n",
    "\n",
    "Completed"
   ]
  },
  {
   "cell_type": "markdown",
   "metadata": {},
   "source": [
    "# Exercise 2 - Gradient with one layer using autograd\n",
    "\n",
    "For the first few exercises, we will not use batched inputs. Only a single input vector is passed through the layer at a time.\n",
    "\n",
    "In this exercise you will compute the gradient of a single layer. You only need to change the code in the cells right below an exercise, the rest works out of the box. Feel free to make changes and see how stuff works though!\n"
   ]
  },
  {
   "cell_type": "markdown",
   "metadata": {},
   "source": [
    "**a)** If the weights and bias of a layer has shapes (10, 4) and (10), what will the shapes of the gradients of the cost function wrt. these weights and this bias be?\n",
    "\n",
    "The gradients will have the same shape as the parameters, i.e. (10, 4) and (10) for the weights and bias respectively."
   ]
  },
  {
   "cell_type": "markdown",
   "metadata": {},
   "source": [
    "**b)** Complete the feed_forward_one_layer function. It should use the sigmoid activation function. Also define the weigth and bias with the correct shapes.\n"
   ]
  },
  {
   "cell_type": "code",
   "execution_count": 27,
   "metadata": {},
   "outputs": [],
   "source": [
    "def feed_forward_one_layer(W, b, x):\n",
    "    z = W @ x + b\n",
    "    a = sigmoid(z)\n",
    "    return a\n",
    "\n",
    "def cost_one_layer(W, b, x, target):\n",
    "    predict = feed_forward_one_layer(W, b, x)\n",
    "    return mse(predict, target)\n",
    "\n",
    "x = np.random.rand(2)\n",
    "target = np.random.rand(3)\n",
    "\n",
    "W = np.random.rand(3, 2)\n",
    "b = np.random.rand(3)"
   ]
  },
  {
   "cell_type": "markdown",
   "metadata": {},
   "source": [
    "**c)** Compute the gradient of the cost function wrt. the weigth and bias by running the cell below. You will not need to change anything, just make sure it runs by defining things correctly in the cell above. This code uses the autograd package which uses backprogagation to compute the gradient!\n"
   ]
  },
  {
   "cell_type": "code",
   "execution_count": 28,
   "metadata": {},
   "outputs": [
    {
     "name": "stdout",
     "output_type": "stream",
     "text": [
      "[[0.00994737 0.00233373]\n",
      " [0.02897117 0.00679688]\n",
      " [0.05990825 0.01405497]] [0.01597161 0.04651646 0.09618941]\n"
     ]
    }
   ],
   "source": [
    "autograd_one_layer = grad(cost_one_layer, [0, 1])\n",
    "W_g, b_g = autograd_one_layer(W, b, x, target)\n",
    "print(W_g, b_g)"
   ]
  },
  {
   "cell_type": "markdown",
   "metadata": {},
   "source": [
    "# Exercise 3 - Gradient with one layer writing backpropagation by hand\n",
    "\n",
    "Before you use the gradient you found using autograd, you will have to find the gradient \"manually\", to better understand how the backpropagation computation works. To do backpropagation \"manually\", you will need to write out expressions for many derivatives along the computation.\n"
   ]
  },
  {
   "cell_type": "markdown",
   "metadata": {},
   "source": [
    "We want to find the gradient of the cost function wrt. the weight and bias. This is quite hard to do directly, so we instead use the chain rule to combine multiple derivatives which are easier to compute.\n",
    "\n",
    "$$\n",
    "\\frac{dC}{dW} = \\frac{dC}{da}\\frac{da}{dz}\\frac{dz}{dW}\n",
    "$$\n",
    "\n",
    "$$\n",
    "\\frac{dC}{db} = \\frac{dC}{da}\\frac{da}{dz}\\frac{dz}{db}\n",
    "$$\n"
   ]
  },
  {
   "cell_type": "markdown",
   "metadata": {},
   "source": [
    "**a)** Which intermediary results can be reused between the two expressions?\n",
    "\n",
    "We can reuse $\\frac{dC}{da}$ and $\\frac{da}{dz}$"
   ]
  },
  {
   "cell_type": "markdown",
   "metadata": {},
   "source": [
    "**b)** What is the derivative of the cost wrt. the final activation? You can use the autograd calculation to make sure you get the correct result. Remember that we compute the mean in mse.\n"
   ]
  },
  {
   "cell_type": "code",
   "execution_count": 29,
   "metadata": {},
   "outputs": [
    {
     "name": "stdout",
     "output_type": "stream",
     "text": [
      "[0.0814952  0.23525053 0.44604336]\n",
      "[0.0814952  0.23525053 0.44604336]\n"
     ]
    }
   ],
   "source": [
    "z = W @ x + b\n",
    "a = sigmoid(z)\n",
    "\n",
    "predict = a\n",
    "\n",
    "\n",
    "def mse_der(predict, target):\n",
    "    return 2 * (predict - target) / predict.size\n",
    "\n",
    "print(mse_der(predict, target))\n",
    "\n",
    "cost_autograd = grad(mse, 0)\n",
    "print(cost_autograd(predict, target))"
   ]
  },
  {
   "cell_type": "markdown",
   "metadata": {},
   "source": [
    "**c)** What is the expression for the derivative of the sigmoid activation function? You can use the autograd calculation to make sure you get the correct result.\n"
   ]
  },
  {
   "cell_type": "code",
   "execution_count": 30,
   "metadata": {},
   "outputs": [
    {
     "name": "stdout",
     "output_type": "stream",
     "text": [
      "[0.19598229 0.19773157 0.21565035]\n",
      "[0.19598229 0.19773157 0.21565035]\n"
     ]
    }
   ],
   "source": [
    "def sigmoid_der(z):\n",
    "    return sigmoid(z) * (1 - sigmoid(z))\n",
    "\n",
    "print(sigmoid_der(z))\n",
    "\n",
    "sigmoid_autograd = elementwise_grad(sigmoid, 0)\n",
    "print(sigmoid_autograd(z))"
   ]
  },
  {
   "cell_type": "markdown",
   "metadata": {},
   "source": [
    "**d)** Using the two derivatives you just computed, compute this intermetidary gradient you will use later:\n",
    "\n",
    "$$\n",
    "\\frac{dC}{dz} = \\frac{dC}{da}\\frac{da}{dz}\n",
    "$$\n"
   ]
  },
  {
   "cell_type": "code",
   "execution_count": 31,
   "metadata": {},
   "outputs": [],
   "source": [
    "dC_da = mse_der(predict, target)\n",
    "dC_dz = dC_da * sigmoid_der(z)"
   ]
  },
  {
   "cell_type": "markdown",
   "metadata": {},
   "source": [
    "**e)** What is the derivative of the intermediary z wrt. the weight and bias? What should the shapes be? The one for the weights is a little tricky, it can be easier to play around in the next exercise first. You can also try computing it with autograd to get a hint.\n",
    "\n",
    "$\\frac{dz}{dW}=x$ and $\\frac{dz}{db}=1$. If $W$ has shape $(n,m)$ then $x$ has shape $(m)$. The resulting shape of $dz/dW$ is $(n,m)$. The shape of $dz/db$ must then be $(n)$."
   ]
  },
  {
   "cell_type": "markdown",
   "metadata": {},
   "source": [
    "**f)** Now combine the expressions you have worked with so far to compute the gradients! Note that you always need to do a feed forward pass while saving the zs and as before you do backpropagation, as they are used in the derivative expressions\n"
   ]
  },
  {
   "cell_type": "code",
   "execution_count": 32,
   "metadata": {},
   "outputs": [
    {
     "name": "stdout",
     "output_type": "stream",
     "text": [
      "[[0.00994737 0.00233373]\n",
      " [0.02897117 0.00679688]\n",
      " [0.05990825 0.01405497]] [0.01597161 0.04651646 0.09618941]\n"
     ]
    }
   ],
   "source": [
    "dC_dW = np.outer(dC_dz, x)\n",
    "dC_db = dC_dz\n",
    "\n",
    "print(dC_dW, dC_db)"
   ]
  },
  {
   "cell_type": "markdown",
   "metadata": {},
   "source": [
    "You should get the same results as with autograd.\n"
   ]
  },
  {
   "cell_type": "code",
   "execution_count": 33,
   "metadata": {},
   "outputs": [
    {
     "name": "stdout",
     "output_type": "stream",
     "text": [
      "[[0.00994737 0.00233373]\n",
      " [0.02897117 0.00679688]\n",
      " [0.05990825 0.01405497]] [0.01597161 0.04651646 0.09618941]\n"
     ]
    }
   ],
   "source": [
    "W_g, b_g = autograd_one_layer(W, b, x, target)\n",
    "print(W_g, b_g)"
   ]
  },
  {
   "cell_type": "markdown",
   "metadata": {},
   "source": [
    "# Exercise 4 - Gradient with two layers writing backpropagation by hand\n"
   ]
  },
  {
   "cell_type": "markdown",
   "metadata": {},
   "source": [
    "Now that you have implemented backpropagation for one layer, you have found most of the expressions you will need for more layers. Let's move up to two layers.\n"
   ]
  },
  {
   "cell_type": "code",
   "execution_count": 34,
   "metadata": {},
   "outputs": [],
   "source": [
    "x = np.random.rand(2)\n",
    "target = np.random.rand(4)\n",
    "\n",
    "W1 = np.random.rand(3, 2)\n",
    "b1 = np.random.rand(3)\n",
    "\n",
    "W2 = np.random.rand(4, 3)\n",
    "b2 = np.random.rand(4)\n",
    "\n",
    "layers = [(W1, b1), (W2, b2)]"
   ]
  },
  {
   "cell_type": "code",
   "execution_count": 35,
   "metadata": {},
   "outputs": [],
   "source": [
    "z1 = W1 @ x + b1\n",
    "a1 = sigmoid(z1)\n",
    "z2 = W2 @ a1 + b2\n",
    "a2 = sigmoid(z2)"
   ]
  },
  {
   "cell_type": "markdown",
   "metadata": {},
   "source": [
    "We begin by computing the gradients of the last layer, as the gradients must be propagated backwards from the end.\n",
    "\n",
    "**a)** Compute the gradients of the last layer, just like you did the single layer in the previous exercise.\n"
   ]
  },
  {
   "cell_type": "code",
   "execution_count": 36,
   "metadata": {},
   "outputs": [],
   "source": [
    "dC_da2 = mse_der(a2, target)\n",
    "dC_dz2 = dC_da2 * sigmoid_der(z2)\n",
    "dC_dW2 = np.outer(dC_dz2, a1)\n",
    "dC_db2 = dC_dz2"
   ]
  },
  {
   "cell_type": "markdown",
   "metadata": {},
   "source": [
    "To find the derivative of the cost wrt. the activation of the first layer, we need a new expression, the one furthest to the right in the following.\n",
    "\n",
    "$$\n",
    "\\frac{dC}{da_1} = \\frac{dC}{dz_2}\\frac{dz_2}{da_1}\n",
    "$$\n",
    "\n",
    "**b)** What is the derivative of the second layer intermetiate wrt. the first layer activation? (First recall how you compute $z_2$)\n",
    "\n",
    "$$\n",
    "\\frac{dz_2}{da_1}=W_2^T\n",
    "$$"
   ]
  },
  {
   "cell_type": "markdown",
   "metadata": {},
   "source": [
    "**c)** Use this expression, together with expressions which are equivelent to ones for the last layer to compute all the derivatives of the first layer.\n",
    "\n",
    "$$\n",
    "\\frac{dC}{dW_1} = \\frac{dC}{da_1}\\frac{da_1}{dz_1}\\frac{dz_1}{dW_1}\n",
    "$$\n",
    "\n",
    "$$\n",
    "\\frac{dC}{db_1} = \\frac{dC}{da_1}\\frac{da_1}{dz_1}\\frac{dz_1}{db_1}\n",
    "$$\n"
   ]
  },
  {
   "cell_type": "code",
   "execution_count": 37,
   "metadata": {},
   "outputs": [],
   "source": [
    "dC_da1 = W2.T @ dC_dz2\n",
    "dC_dz1 = dC_da1 * sigmoid_der(z1)\n",
    "dC_dW1 = np.outer(dC_dz1, x)\n",
    "dC_db1 = dC_dz1"
   ]
  },
  {
   "cell_type": "code",
   "execution_count": 38,
   "metadata": {},
   "outputs": [
    {
     "name": "stdout",
     "output_type": "stream",
     "text": [
      "[[-4.28573715e-05 -1.95755092e-04]\n",
      " [ 3.04034462e-04  1.38870612e-03]\n",
      " [ 4.40648720e-04  2.01270465e-03]] [-0.00040043  0.00284072  0.00411716]\n",
      "[[ 0.03351209  0.03310719  0.03239015]\n",
      " [-0.0214846  -0.02122502 -0.02076533]\n",
      " [ 0.02020384  0.01995974  0.01952745]\n",
      " [ 0.00188462  0.00186185  0.00182153]] [ 0.04208334 -0.02697963  0.0253713   0.00236664]\n"
     ]
    }
   ],
   "source": [
    "print(dC_dW1, dC_db1)\n",
    "print(dC_dW2, dC_db2)"
   ]
  },
  {
   "cell_type": "markdown",
   "metadata": {},
   "source": [
    "**d)** Make sure you got the same gradient as the following code which uses autograd to do backpropagation.\n"
   ]
  },
  {
   "cell_type": "code",
   "execution_count": 39,
   "metadata": {},
   "outputs": [],
   "source": [
    "def feed_forward_two_layers(layers, x):\n",
    "    W1, b1 = layers[0]\n",
    "    z1 = W1 @ x + b1\n",
    "    a1 = sigmoid(z1)\n",
    "\n",
    "    W2, b2 = layers[1]\n",
    "    z2 = W2 @ a1 + b2\n",
    "    a2 = sigmoid(z2)\n",
    "\n",
    "    return a2"
   ]
  },
  {
   "cell_type": "code",
   "execution_count": 40,
   "metadata": {},
   "outputs": [
    {
     "data": {
      "text/plain": [
       "[(array([[-4.28573715e-05, -1.95755092e-04],\n",
       "         [ 3.04034462e-04,  1.38870612e-03],\n",
       "         [ 4.40648720e-04,  2.01270465e-03]]),\n",
       "  array([-0.00040043,  0.00284072,  0.00411716])),\n",
       " (array([[ 0.03351209,  0.03310719,  0.03239015],\n",
       "         [-0.0214846 , -0.02122502, -0.02076533],\n",
       "         [ 0.02020384,  0.01995974,  0.01952745],\n",
       "         [ 0.00188462,  0.00186185,  0.00182153]]),\n",
       "  array([ 0.04208334, -0.02697963,  0.0253713 ,  0.00236664]))]"
      ]
     },
     "execution_count": 40,
     "metadata": {},
     "output_type": "execute_result"
    }
   ],
   "source": [
    "def cost_two_layers(layers, x, target):\n",
    "    predict = feed_forward_two_layers(layers, x)\n",
    "    return mse(predict, target)\n",
    "\n",
    "\n",
    "grad_two_layers = grad(cost_two_layers, 0)\n",
    "grad_two_layers(layers, x, target)"
   ]
  },
  {
   "cell_type": "markdown",
   "metadata": {},
   "source": [
    "**e)** How would you use the gradient from this layer to compute the gradient of an even earlier layer? Would the expressions be any different?\n",
    "\n",
    "Compute $\\frac{dC}{da_1}$ using $\\frac{dC}{dz_2}$ and $\\frac{dz_2}{da_1}$ and then compute $\\frac{dC}{dz_1}$ using $\\frac{dC}{a_1}$ and $\\frac{da_1}{dz_1}$. The expressions will involve the same principles of backpropagation and chain rule as was done previously."
   ]
  },
  {
   "cell_type": "markdown",
   "metadata": {},
   "source": [
    "# Exercise 5 - Gradient with any number of layers writing backpropagation by hand\n"
   ]
  },
  {
   "cell_type": "markdown",
   "metadata": {},
   "source": [
    "Well done on getting this far! Now it's time to compute the gradient with any number of layers.\n",
    "\n",
    "First, some code from the general neural network code from last week. Note that we are still sending in one input vector at a time. We will change it to use batched inputs later.\n"
   ]
  },
  {
   "cell_type": "code",
   "execution_count": 41,
   "metadata": {},
   "outputs": [],
   "source": [
    "def create_layers(network_input_size, layer_output_sizes):\n",
    "    layers = []\n",
    "\n",
    "    i_size = network_input_size\n",
    "    for layer_output_size in layer_output_sizes:\n",
    "        W = np.random.randn(layer_output_size, i_size)\n",
    "        b = np.random.randn(layer_output_size)\n",
    "        layers.append((W, b))\n",
    "\n",
    "        i_size = layer_output_size\n",
    "    return layers\n",
    "\n",
    "\n",
    "def feed_forward(input, layers, activation_funcs):\n",
    "    a = input\n",
    "    for (W, b), activation_func in zip(layers, activation_funcs):\n",
    "        z = W @ a + b\n",
    "        a = activation_func(z)\n",
    "    return a\n",
    "\n",
    "\n",
    "def cost(layers, input, activation_funcs, target):\n",
    "    predict = feed_forward(input, layers, activation_funcs)\n",
    "    return mse(predict, target)"
   ]
  },
  {
   "cell_type": "markdown",
   "metadata": {},
   "source": [
    "You might have already have noticed a very important detail in backpropagation: You need the values from the forward pass to compute all the gradients! The feed forward method above is great for efficiency and for using autograd, as it only cares about computing the final output, but now we need to also save the results along the way.\n",
    "\n",
    "Here is a function which does that for you.\n"
   ]
  },
  {
   "cell_type": "code",
   "execution_count": 42,
   "metadata": {},
   "outputs": [],
   "source": [
    "def feed_forward_saver(input, layers, activation_funcs):\n",
    "    layer_inputs = []\n",
    "    zs = []\n",
    "    a = input\n",
    "    for (W, b), activation_func in zip(layers, activation_funcs):\n",
    "        layer_inputs.append(a)\n",
    "        z = W @ a + b\n",
    "        a = activation_func(z)\n",
    "\n",
    "        zs.append(z)\n",
    "\n",
    "    return layer_inputs, zs, a"
   ]
  },
  {
   "cell_type": "markdown",
   "metadata": {},
   "source": [
    "**a)** Now, complete the backpropagation function so that it returns the gradient of the cost function wrt. all the weigths and biases. Use the autograd calculation below to make sure you get the correct answer.\n"
   ]
  },
  {
   "cell_type": "code",
   "execution_count": 43,
   "metadata": {},
   "outputs": [],
   "source": [
    "def backpropagation(\n",
    "    input, layers, activation_funcs, target, activation_ders, cost_der=mse_der\n",
    "):\n",
    "    layer_inputs, zs, predict = feed_forward_saver(input, layers, activation_funcs)\n",
    "\n",
    "    layer_grads = [() for layer in layers]\n",
    "\n",
    "    # Loop over the layers from last to first\n",
    "    for i in reversed(range(len(layers))):\n",
    "        layer_input, z, activation_der = layer_inputs[i], zs[i], activation_ders[i]\n",
    "\n",
    "        if i == len(layers) - 1:\n",
    "            # For the last layer, compute dC_da directly from the cost\n",
    "            dC_da = cost_der(predict, target)\n",
    "        else:\n",
    "            # For other layers, use the gradients from the next layer\n",
    "            (W_next, b_next) = layers[i + 1]\n",
    "            dC_da = dC_dz_next @ W_next  # Use the previous layer's dC_dz\n",
    "\n",
    "        dC_dz = dC_da * activation_der(z)\n",
    "        dC_dW = np.outer(dC_dz, layer_input)\n",
    "        dC_db = dC_dz\n",
    "\n",
    "        layer_grads[i] = (dC_dW, dC_db)\n",
    "        dC_dz_next = dC_dz  # Save for use in the next layer\n",
    "\n",
    "    return layer_grads"
   ]
  },
  {
   "cell_type": "code",
   "execution_count": 44,
   "metadata": {},
   "outputs": [],
   "source": [
    "network_input_size = 2\n",
    "layer_output_sizes = [3, 4]\n",
    "activation_funcs = [sigmoid, ReLU]\n",
    "activation_ders = [sigmoid_der, ReLU_der]\n",
    "\n",
    "layers = create_layers(network_input_size, layer_output_sizes)\n",
    "\n",
    "x = np.random.rand(network_input_size)\n",
    "target = np.random.rand(4)"
   ]
  },
  {
   "cell_type": "code",
   "execution_count": 45,
   "metadata": {},
   "outputs": [
    {
     "name": "stdout",
     "output_type": "stream",
     "text": [
      "[(array([[0.28916651, 0.05411641],\n",
      "       [0.1250061 , 0.02339442],\n",
      "       [0.04605506, 0.00861903]]), array([0.46882789, 0.20267336, 0.07466942])), (array([[ 0.26211734,  0.3314158 ,  0.20929168],\n",
      "       [-0.        , -0.        , -0.        ],\n",
      "       [ 0.12808707,  0.16195067,  0.10227312],\n",
      "       [ 0.1377077 ,  0.1741148 ,  0.10995486]]), array([ 0.64042521, -0.        ,  0.31295216,  0.33645803]))]\n"
     ]
    }
   ],
   "source": [
    "layer_grads = backpropagation(x, layers, activation_funcs, target, activation_ders)\n",
    "print(layer_grads)"
   ]
  },
  {
   "cell_type": "code",
   "execution_count": 46,
   "metadata": {},
   "outputs": [
    {
     "data": {
      "text/plain": [
       "[(array([[0.28916651, 0.05411641],\n",
       "         [0.1250061 , 0.02339442],\n",
       "         [0.04605506, 0.00861903]]),\n",
       "  array([0.46882789, 0.20267336, 0.07466942])),\n",
       " (array([[0.26211734, 0.3314158 , 0.20929168],\n",
       "         [0.        , 0.        , 0.        ],\n",
       "         [0.12808707, 0.16195067, 0.10227312],\n",
       "         [0.1377077 , 0.1741148 , 0.10995486]]),\n",
       "  array([0.64042521, 0.        , 0.31295216, 0.33645803]))]"
      ]
     },
     "execution_count": 46,
     "metadata": {},
     "output_type": "execute_result"
    }
   ],
   "source": [
    "cost_grad = grad(cost, 0)\n",
    "cost_grad(layers, x, [sigmoid, ReLU], target)"
   ]
  },
  {
   "cell_type": "markdown",
   "metadata": {},
   "source": [
    "# Exercise 6 - Batched inputs\n",
    "\n",
    "Make new versions of all the functions in exercise 5 which now take batched inputs instead. See last weeks exercise 5 for details on how to batch inputs to neural networks. You will also need to update the backpropagation function.\n"
   ]
  },
  {
   "cell_type": "code",
   "execution_count": 47,
   "metadata": {},
   "outputs": [],
   "source": [
    "def create_layers_batch(network_input_size, layer_output_sizes):\n",
    "    layers = []\n",
    "    i_size = network_input_size\n",
    "    for layer_output_size in layer_output_sizes:\n",
    "        W = np.random.randn(layer_output_size, i_size)\n",
    "        b = np.random.randn(layer_output_size)\n",
    "        layers.append((W, b))\n",
    "        i_size = layer_output_size\n",
    "    return layers\n",
    "\n",
    "def feed_forward_batch(input, layers, activation_funcs):\n",
    "    a = input  # Input shape: (batch_size, input_dim)\n",
    "    for (W, b), activation_func in zip(layers, activation_funcs):\n",
    "        z = a @ W.T + b\n",
    "        a = activation_func(z)\n",
    "    return a  # Shape: (batch_size, output_dim)\n",
    "\n",
    "def mse(predictions, targets):\n",
    "    return np.mean((predictions - targets) ** 2)\n",
    "\n",
    "def cross_entropy(predict, target):\n",
    "    return np.sum(-target * np.log(predict))\n",
    "\n",
    "def backpropagation(input, layers, activation_funcs, target, activation_ders, cost_der=cross_entropy):\n",
    "    layer_inputs, zs, predict = feed_forward_saver(input, layers, activation_funcs)\n",
    "    layer_grads = [(np.zeros_like(W), np.zeros_like(b)) for W, b in layers]\n",
    "\n",
    "    for i in reversed(range(len(layers))):\n",
    "        layer_input, z, activation_der = layer_inputs[i], zs[i], activation_ders[i]\n",
    "\n",
    "        if i == len(layers) - 1:\n",
    "            # For the last layer, compute dC_da directly from the cost\n",
    "            dC_da = cost_der(predict, target)\n",
    "        else:\n",
    "            # For other layers, use the gradients from the next layer\n",
    "            (W_next, b_next) = layers[i + 1]\n",
    "            dC_da = dC_dz_next @ W_next\n",
    "\n",
    "        dC_dz = dC_da * activation_der(z)\n",
    "        dC_dW = (layer_input.T @ dC_dz) / input.shape[0]  # Average over batch\n",
    "        dC_db = dC_dz.mean(axis=0)  # Average gradient for bias\n",
    "\n",
    "        layer_grads[i] = (dC_dW, dC_db)\n",
    "        dC_dz_next = dC_dz  # Save for use in the next layer\n",
    "\n",
    "    return layer_grads\n"
   ]
  },
  {
   "cell_type": "markdown",
   "metadata": {},
   "source": [
    "# Exercise 7 - Training\n"
   ]
  },
  {
   "cell_type": "markdown",
   "metadata": {},
   "source": [
    "**a)** Complete exercise 6 and 7 from last week, but use your own backpropogation implementation to compute the gradient.\n"
   ]
  },
  {
   "cell_type": "code",
   "execution_count": 48,
   "metadata": {},
   "outputs": [
    {
     "data": {
      "image/png": "[encoded data removed]",
      "text/plain": [
       "<Figure size 640x480 with 1 Axes>"
      ]
     },
     "metadata": {},
     "output_type": "display_data"
    },
    {
     "name": "stdout",
     "output_type": "stream",
     "text": [
      "Initial accuracy: 0.3933333333333333\n"
     ]
    },
    {
     "ename": "TypeError",
     "evalue": "backpropagation() missing 1 required positional argument: 'activation_ders'",
     "output_type": "error",
     "traceback": [
      "\u001b[1;31m---------------------------------------------------------------------------\u001b[0m",
      "\u001b[1;31mTypeError\u001b[0m                                 Traceback (most recent call last)",
      "Cell \u001b[1;32mIn[48], line 65\u001b[0m\n\u001b[0;32m     62\u001b[0m     \u001b[38;5;28;01mreturn\u001b[39;00m layers, accuracies\n\u001b[0;32m     64\u001b[0m epochs \u001b[38;5;241m=\u001b[39m \u001b[38;5;241m201\u001b[39m\n\u001b[1;32m---> 65\u001b[0m layers, training_accuracies \u001b[38;5;241m=\u001b[39m \u001b[43mtrain_network\u001b[49m\u001b[43m(\u001b[49m\u001b[43minputs\u001b[49m\u001b[43m,\u001b[49m\u001b[43m \u001b[49m\u001b[43mlayers\u001b[49m\u001b[43m,\u001b[49m\u001b[43m \u001b[49m\u001b[43mactivations\u001b[49m\u001b[43m,\u001b[49m\u001b[43m \u001b[49m\u001b[43mtargets\u001b[49m\u001b[43m,\u001b[49m\u001b[43m \u001b[49m\u001b[43mepochs\u001b[49m\u001b[38;5;241;43m=\u001b[39;49m\u001b[43mepochs\u001b[49m\u001b[43m)\u001b[49m\n\u001b[0;32m     67\u001b[0m \u001b[38;5;66;03m# Plot training accuracies\u001b[39;00m\n\u001b[0;32m     68\u001b[0m plt\u001b[38;5;241m.\u001b[39mfigure(figsize\u001b[38;5;241m=\u001b[39m(\u001b[38;5;241m8\u001b[39m, \u001b[38;5;241m6\u001b[39m))\n",
      "Cell \u001b[1;32mIn[48], line 52\u001b[0m, in \u001b[0;36mtrain_network\u001b[1;34m(inputs, layers, activations, targets, learning_rate, epochs)\u001b[0m\n\u001b[0;32m     50\u001b[0m accuracies \u001b[38;5;241m=\u001b[39m []\n\u001b[0;32m     51\u001b[0m \u001b[38;5;28;01mfor\u001b[39;00m i \u001b[38;5;129;01min\u001b[39;00m \u001b[38;5;28mrange\u001b[39m(epochs):\n\u001b[1;32m---> 52\u001b[0m     layers_grad \u001b[38;5;241m=\u001b[39m \u001b[43mbackpropagation\u001b[49m\u001b[43m(\u001b[49m\u001b[43minputs\u001b[49m\u001b[43m,\u001b[49m\u001b[43m \u001b[49m\u001b[43mlayers\u001b[49m\u001b[43m,\u001b[49m\u001b[43m \u001b[49m\u001b[43mactivations\u001b[49m\u001b[43m,\u001b[49m\u001b[43m \u001b[49m\u001b[43mtargets\u001b[49m\u001b[43m)\u001b[49m\n\u001b[0;32m     53\u001b[0m     \u001b[38;5;28;01mfor\u001b[39;00m (W, b), (W_g, b_g) \u001b[38;5;129;01min\u001b[39;00m \u001b[38;5;28mzip\u001b[39m(layers, layers_grad):\n\u001b[0;32m     54\u001b[0m         W \u001b[38;5;241m-\u001b[39m\u001b[38;5;241m=\u001b[39m learning_rate \u001b[38;5;241m*\u001b[39m W_g\n",
      "\u001b[1;31mTypeError\u001b[0m: backpropagation() missing 1 required positional argument: 'activation_ders'"
     ]
    }
   ],
   "source": [
    "# Load the Iris dataset\n",
    "iris = datasets.load_iris()\n",
    "\n",
    "# Prepare data for plotting\n",
    "_, ax = plt.subplots()\n",
    "scatter = ax.scatter(iris.data[:, 0], iris.data[:, 1], c=iris.target)\n",
    "ax.set(xlabel=iris.feature_names[0], ylabel=iris.feature_names[1])\n",
    "_ = ax.legend(\n",
    "    scatter.legend_elements()[0], iris.target_names, loc=\"lower right\", title=\"Classes\"\n",
    ")\n",
    "\n",
    "plt.savefig('iris_plot.pdf')\n",
    "plt.show()\n",
    "\n",
    "inputs = iris.data\n",
    "\n",
    "# One-hot encode targets\n",
    "targets = np.zeros((len(iris.data), 3))\n",
    "for i, t in enumerate(iris.target):\n",
    "    targets[i, t] = 1\n",
    "\n",
    "def softmax(z):\n",
    "    e_z = np.exp(z - np.max(z, axis=1, keepdims=True))\n",
    "    return e_z / np.sum(e_z, axis=1, keepdims=True)\n",
    "\n",
    "def cost(input, layers, activations, target):\n",
    "    predict = feed_forward_batch(input, layers, activations)\n",
    "    return cross_entropy(predict, target)\n",
    "\n",
    "def accuracy(predictions, targets):\n",
    "    predicted_classes = np.argmax(predictions, axis=1)\n",
    "    true_classes = np.argmax(targets, axis=1)\n",
    "    return accuracy_score(true_classes, predicted_classes)\n",
    "\n",
    "# Set activation functions and create layers\n",
    "activations = [sigmoid, softmax]\n",
    "layers = create_layers_batch(4, [8, 3])  # 4 input features, 8 neurons in first layer, 3 in second\n",
    "\n",
    "# Make predictions\n",
    "predictions = feed_forward_batch(inputs, layers, activations)\n",
    "\n",
    "# Print accuracy using accuracy_score\n",
    "print(\"Initial accuracy:\", accuracy(predictions, targets))\n",
    "\n",
    "# Define gradient function\n",
    "gradient_func = grad(cost, 1)\n",
    "\n",
    "# Train the network\n",
    "def train_network(inputs, layers, activations, targets, learning_rate=0.001, epochs=101):\n",
    "    accuracies = []\n",
    "    for i in range(epochs):\n",
    "        layers_grad = backpropagation(inputs, layers, activations, targets)\n",
    "        for (W, b), (W_g, b_g) in zip(layers, layers_grad):\n",
    "            W -= learning_rate * W_g\n",
    "            b -= learning_rate * b_g\n",
    "\n",
    "        # Track accuracy\n",
    "        predictions = feed_forward_batch(inputs, layers, activations)\n",
    "        accuracy_value = accuracy(predictions, targets)\n",
    "        accuracies.append(accuracy_value)\n",
    "\n",
    "    return layers, accuracies\n",
    "\n",
    "epochs = 201\n",
    "layers, training_accuracies = train_network(inputs, layers, activations, targets, epochs=epochs)\n",
    "\n",
    "# Plot training accuracies\n",
    "plt.figure(figsize=(8, 6))\n",
    "plt.plot(range(0, epochs), training_accuracies, marker='o')\n",
    "plt.title('Training Accuracy over Epochs')\n",
    "plt.xlabel('Epochs')\n",
    "plt.ylabel('Accuracy')\n",
    "plt.grid()\n",
    "plt.savefig('accuracy.pdf')\n",
    "plt.show()"
   ]
  },
  {
   "cell_type": "markdown",
   "metadata": {},
   "source": [
    "**b)** Use stochastic gradient descent with momentum when you train your network.\n"
   ]
  },
  {
   "cell_type": "code",
   "execution_count": 24,
   "metadata": {},
   "outputs": [
    {
     "data": {
      "image/png": "[encoded data removed]",
      "text/plain": [
       "<Figure size 800x600 with 1 Axes>"
      ]
     },
     "metadata": {},
     "output_type": "display_data"
    }
   ],
   "source": [
    "# Train the network using Stochastic Gradient Descent (SGD)\n",
    "def train_network_sgd(inputs, layers, activations, targets, batch_size=16, learning_rate=0.001, epochs=101):\n",
    "    accuracies = []\n",
    "    data_size = inputs.shape[0]\n",
    "\n",
    "    for epoch in range(epochs):\n",
    "        # Shuffle data at the beginning of each epoch\n",
    "        indices = np.arange(data_size)\n",
    "        np.random.shuffle(indices)\n",
    "        inputs_shuffled = inputs[indices]\n",
    "        targets_shuffled = targets[indices]\n",
    "\n",
    "        for i in range(0, data_size, batch_size):\n",
    "            # Get the mini-batch\n",
    "            x_batch = inputs_shuffled[i:i + batch_size]\n",
    "            y_batch = targets_shuffled[i:i + batch_size]\n",
    "\n",
    "            # Calculate gradients on the mini-batch\n",
    "            layers_grad = gradient_func(x_batch, layers, activations, y_batch)\n",
    "            for (W, b), (W_g, b_g) in zip(layers, layers_grad):\n",
    "                W -= learning_rate * W_g\n",
    "                b -= learning_rate * b_g\n",
    "\n",
    "        # Track accuracy at the end of each epoch\n",
    "        predictions = feed_forward_batch(inputs, layers, activations)\n",
    "        accuracy_value = accuracy(predictions, targets)\n",
    "        accuracies.append(accuracy_value)\n",
    "\n",
    "    return layers, accuracies\n",
    "\n",
    "# Training with SGD\n",
    "epochs = 201\n",
    "batch_size = 16\n",
    "layers, training_accuracies = train_network_sgd(inputs, layers, activations, targets, batch_size=batch_size, epochs=epochs)\n",
    "\n",
    "# Plot training accuracies\n",
    "plt.figure(figsize=(8, 6))\n",
    "plt.plot(range(0, epochs), training_accuracies, marker='o')\n",
    "plt.title('Training Accuracy over Epochs with SGD')\n",
    "plt.xlabel('Epochs')\n",
    "plt.ylabel('Accuracy')\n",
    "plt.grid()\n",
    "plt.savefig('accuracy_sgd.pdf')\n",
    "plt.show()"
   ]
  },
  {
   "cell_type": "markdown",
   "metadata": {},
   "source": [
    "# Exercise 8 (Optional) - Object orientation\n",
    "\n",
    "Passing in the layers, activations functions, activation derivatives and cost derivatives into the functions each time leads to code which is easy to understand in isoloation, but messier when used in a larger context with data splitting, data scaling, gradient methods and so forth. Creating an object which stores these values can lead to code which is much easier to use.\n",
    "\n",
    "**a)** Write a neural network class. You are free to implement it how you see fit, though we strongly recommend to not save any input or output values as class attributes, nor let the neural network class handle gradient methods internally. Gradient methods should be handled outside, by performing general operations on the layer_grads list using functions or classes separate to the neural network.\n",
    "\n",
    "We provide here a skeleton structure which should get you started.\n"
   ]
  },
  {
   "cell_type": "code",
   "execution_count": 25,
   "metadata": {},
   "outputs": [],
   "source": [
    "class NeuralNetwork:\n",
    "    def __init__(\n",
    "        self,\n",
    "        network_input_size,\n",
    "        layer_output_sizes,\n",
    "        activation_funcs,\n",
    "        activation_ders,\n",
    "        cost_fun,\n",
    "        cost_der,\n",
    "    ):\n",
    "        pass\n",
    "\n",
    "    def predict(self, inputs):\n",
    "        # Simple feed forward pass\n",
    "        pass\n",
    "\n",
    "    def cost(self, inputs, targets):\n",
    "        pass\n",
    "\n",
    "    def _feed_forward_saver(self, inputs):\n",
    "        pass\n",
    "\n",
    "    def compute_gradient(self, inputs, targets):\n",
    "        pass\n",
    "\n",
    "    def update_weights(self, layer_grads):\n",
    "        pass\n",
    "\n",
    "    # These last two methods are not needed in the project, but they can be nice to have! The first one has a layers parameter so that you can use autograd on it\n",
    "    def autograd_compliant_predict(self, layers, inputs):\n",
    "        pass\n",
    "\n",
    "    def autograd_gradient(self, inputs, targets):\n",
    "        pass"
   ]
  }
 ],
 "metadata": {
  "kernelspec": {
   "display_name": "Python 3",
   "language": "python",
   "name": "python3"
  },
  "language_info": {
   "codemirror_mode": {
    "name": "ipython",
    "version": 3
   },
   "file_extension": ".py",
   "mimetype": "text/x-python",
   "name": "python",
   "nbconvert_exporter": "python",
   "pygments_lexer": "ipython3",
   "version": "3.12.5"
  }
 },
 "nbformat": 4,
 "nbformat_minor": 2
}
