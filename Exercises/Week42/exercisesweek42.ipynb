{
 "cells": [
  {
   "cell_type": "markdown",
   "id": "4b4c06bc",
   "metadata": {
    "editable": true
   },
   "source": [
    "<!-- HTML file automatically generated from DocOnce source (https://github.com/doconce/doconce/)\n",
    "doconce format html exercisesweek41.do.txt  -->\n",
    "<!-- dom:TITLE: Exercises week 41 -->\n"
   ]
  },
  {
   "cell_type": "markdown",
   "id": "bcb25e64",
   "metadata": {
    "editable": true
   },
   "source": [
    "# Exercises week 42\n",
    "\n",
    "**October 11-18, 2024**\n",
    "\n",
    "Date: **Deadline is Friday October 18 at midnight**\n"
   ]
  },
  {
   "cell_type": "markdown",
   "id": "bb01f126",
   "metadata": {
    "editable": true
   },
   "source": [
    "# Overarching aims of the exercises this week\n",
    "\n",
    "The aim of the exercises this week is to get started with implementing a neural network. There are a lot of technical and finicky parts of implementing a neutal network, so take your time.\n",
    "\n",
    "This week, you will implement only the feed-forward pass and updating the network parameters with simple gradient descent, the gradient will be computed using autograd using code we provide. Next week, you will implement backpropagation. We recommend that you do the exercises this week by editing and running this notebook file, as it includes some checks along the way that you have implemented the pieces of the feed-forward pass correctly, and running small parts of the code at a time will be important for understanding the methods.\n",
    "\n",
    "If you have trouble running a notebook, you can run this notebook in google colab instead (https://colab.research.google.com/drive/1OCQm1tlTWB6hZSf9I7gGUgW9M8SbVeQu#offline=true&sandboxMode=true), an updated link will be provided on the course discord (you can also send an email to k.h.fredly@fys.uio.no if you encounter any trouble), though we recommend that you set up VSCode and your python environment to run code like this locally.\n"
   ]
  },
  {
   "cell_type": "code",
   "execution_count": 210,
   "id": "c6f61b09",
   "metadata": {},
   "outputs": [],
   "source": [
    "import autograd.numpy as np  # We need to use this numpy wrapper to make automatic differentiation work later\n",
    "from sklearn import datasets\n",
    "import matplotlib.pyplot as plt\n",
    "from sklearn.metrics import accuracy_score\n",
    "\n",
    "\n",
    "# Defining some activation functions\n",
    "def ReLU(z):\n",
    "    return np.where(z > 0, z, 0)\n",
    "\n",
    "\n",
    "def sigmoid(z):\n",
    "    return 1 / (1 + np.exp(-z))\n",
    "\n",
    "\n",
    "def softmax(z):\n",
    "    \"\"\"Compute softmax values for each set of scores in the rows of the matrix z.\n",
    "    Used with batched input data.\"\"\"\n",
    "    e_z = np.exp(z - np.max(z, axis=0))\n",
    "    return e_z / np.sum(e_z, axis=1)[:, np.newaxis]\n",
    "\n",
    "\n",
    "def softmax_vec(z):\n",
    "    \"\"\"Compute softmax values for each set of scores in the vector z.\n",
    "    Use this function when you use the activation function on one vector at a time\"\"\"\n",
    "    e_z = np.exp(z - np.max(z))\n",
    "    return e_z / np.sum(e_z)"
   ]
  },
  {
   "cell_type": "markdown",
   "id": "6248ec53",
   "metadata": {},
   "source": [
    "# Exercise 1\n",
    "\n",
    "In this exercise you will compute the activation of the first layer. You only need to change the code in the cells right below an exercise, the rest works out of the box. Feel free to make changes and see how stuff works though!\n"
   ]
  },
  {
   "cell_type": "code",
   "execution_count": 211,
   "id": "37f30740",
   "metadata": {},
   "outputs": [],
   "source": [
    "np.random.seed(2024)\n",
    "\n",
    "x = np.random.randn(2)  # network input. This is a single input with two features\n",
    "W1 = np.random.randn(4, 2)  # first layer weights"
   ]
  },
  {
   "cell_type": "markdown",
   "id": "4ed2cf3d",
   "metadata": {},
   "source": [
    "**a)** Given the shape of the first layer weight matrix, what is the input shape of the neural network? What is the output shape of the first layer?\n",
    "\n",
    "Given the shape $(n, m)$ for the first layer weight matrix the input shape of the neural network is $(m,)$. The output shape of the first layer is $(n,)$."
   ]
  },
  {
   "cell_type": "markdown",
   "id": "edf7217b",
   "metadata": {},
   "source": [
    "**b)** Define the bias of the first layer, `b1`with the correct shape. (Run the next cell right after the previous to get the random generated values to line up with the test solution below)\n"
   ]
  },
  {
   "cell_type": "code",
   "execution_count": 212,
   "id": "2129c19f",
   "metadata": {},
   "outputs": [],
   "source": [
    "b1 = np.random.randn(4)"
   ]
  },
  {
   "cell_type": "markdown",
   "id": "09e8d453",
   "metadata": {},
   "source": [
    "**c)** Compute the intermediary `z1` for the first layer\n"
   ]
  },
  {
   "cell_type": "code",
   "execution_count": 213,
   "id": "6837119b",
   "metadata": {},
   "outputs": [],
   "source": [
    "z1 = W1 @ x + b1"
   ]
  },
  {
   "cell_type": "markdown",
   "id": "6f71374e",
   "metadata": {},
   "source": [
    "**d)** Compute the activation `a1` for the first layer using the ReLU activation function defined earlier.\n"
   ]
  },
  {
   "cell_type": "code",
   "execution_count": 214,
   "id": "8d41ed19",
   "metadata": {},
   "outputs": [],
   "source": [
    "a1 = ReLU(z1)"
   ]
  },
  {
   "cell_type": "markdown",
   "id": "088710c0",
   "metadata": {},
   "source": [
    "Confirm that you got the correct activation with the test below. Make sure that you define `b1` with the randn function right after you define `W1`.\n"
   ]
  },
  {
   "cell_type": "code",
   "execution_count": 215,
   "id": "4d2f54b4",
   "metadata": {},
   "outputs": [
    {
     "name": "stdout",
     "output_type": "stream",
     "text": [
      "True\n"
     ]
    }
   ],
   "source": [
    "sol1 = np.array([0.60610368, 4.0076268, 0.0, 0.56469864])\n",
    "\n",
    "print(np.allclose(a1, sol1))"
   ]
  },
  {
   "cell_type": "markdown",
   "id": "7fb0cf46",
   "metadata": {},
   "source": [
    "# Exercise 2\n",
    "\n",
    "Now we will add a layer to the network with an output of length 8 and ReLU activation.\n",
    "\n",
    "**a)** What is the input of the second layer? What is its shape?\n",
    "\n",
    "The input of the 2nd layer is the output of the first layer which has shape $(4,)$.\n",
    "\n",
    "**b)** Define the weight and bias of the second layer with the right shapes.\n"
   ]
  },
  {
   "cell_type": "code",
   "execution_count": 216,
   "id": "00063acf",
   "metadata": {},
   "outputs": [],
   "source": [
    "W2 = np.random.randn(8, 4)\n",
    "b2 = np.random.randn(8)"
   ]
  },
  {
   "cell_type": "markdown",
   "id": "5bd7d84b",
   "metadata": {},
   "source": [
    "**c)** Compute the intermediary `z2` and activation `a2` for the second layer.\n"
   ]
  },
  {
   "cell_type": "code",
   "execution_count": 217,
   "id": "2fd0383d",
   "metadata": {},
   "outputs": [],
   "source": [
    "z2 = W2 @ a1 + b2\n",
    "a2 = ReLU(z2)"
   ]
  },
  {
   "cell_type": "markdown",
   "id": "1b5daae5",
   "metadata": {},
   "source": [
    "Confirm that you got the correct activation shape with the test below.\n"
   ]
  },
  {
   "cell_type": "code",
   "execution_count": 218,
   "id": "f7f2f8a1",
   "metadata": {},
   "outputs": [
    {
     "name": "stdout",
     "output_type": "stream",
     "text": [
      "True\n"
     ]
    }
   ],
   "source": [
    "print(\n",
    "    np.allclose(np.exp(len(a2)), 2980.9579870417283)\n",
    ")  # This should evaluate to True if a2 has the correct shape :)"
   ]
  },
  {
   "cell_type": "markdown",
   "id": "3759620d",
   "metadata": {},
   "source": [
    "# Exercise 3\n",
    "\n",
    "We often want our neural networks to have many layers of varying sizes. To avoid writing very long and error-prone code where we explicitly define and evaluate each layer we should keep all our layers in a single variable which is easy to create and use.\n",
    "\n",
    "**a)** Complete the function below so that it returns a list `layers` of weight and bias tuples `(W, b)` for each layer, in order, with the correct shapes that we can use later as our network parameters.\n"
   ]
  },
  {
   "cell_type": "code",
   "execution_count": 219,
   "id": "c58f10f9",
   "metadata": {},
   "outputs": [],
   "source": [
    "def create_layers(network_input_size, output_sizes):\n",
    "    layers = []\n",
    "\n",
    "    i_size = network_input_size\n",
    "    for output_size in output_sizes:\n",
    "        W = np.random.randn(output_size, i_size)\n",
    "        b = np.random.randn(output_size)\n",
    "        layers.append((W, b))\n",
    "        \n",
    "        i_size = output_size\n",
    "    return layers"
   ]
  },
  {
   "cell_type": "markdown",
   "id": "bdc0cda2",
   "metadata": {},
   "source": [
    "**b)** Compile the function below so that it evaluates the intermediary `z` and activation `a` for each layer, with ReLU actication, and returns the final activation `a`. This is the complete feed-forward pass, a full neural network!\n"
   ]
  },
  {
   "cell_type": "code",
   "execution_count": 220,
   "id": "5262df05",
   "metadata": {},
   "outputs": [],
   "source": [
    "def feed_forward_all_relu(layers, input):\n",
    "    a = input\n",
    "    for W, b in layers:\n",
    "        z = W @ a + b\n",
    "        a = ReLU(z)\n",
    "    return a"
   ]
  },
  {
   "cell_type": "markdown",
   "id": "245adbcb",
   "metadata": {},
   "source": [
    "**c)** Create a network with input size 8 and layers with output sizes 10, 16, 6, 2. Evaluate it and make sure that you get the correct size vectors along the way.\n"
   ]
  },
  {
   "cell_type": "code",
   "execution_count": 221,
   "id": "89a8f70d",
   "metadata": {},
   "outputs": [
    {
     "name": "stdout",
     "output_type": "stream",
     "text": [
      "(2,)\n"
     ]
    }
   ],
   "source": [
    "input_size = 8\n",
    "layer_output_sizes = [10, 16, 6, 2]\n",
    "\n",
    "x = np.random.rand(input_size)\n",
    "layers = create_layers(input_size, layer_output_sizes)\n",
    "predict = feed_forward_all_relu(layers, x)\n",
    "print(predict.shape)"
   ]
  },
  {
   "cell_type": "markdown",
   "id": "0da7fd52",
   "metadata": {},
   "source": [
    "**d)** Why is a neural network with no activation functions always mathematically equivelent to a neural network with only one layer?\n",
    "\n",
    "Any composition of linear function is just another linear function. Thus with no activation functions we could just bundle together all the linear transformations into one linear transformation which gives the same output."
   ]
  },
  {
   "cell_type": "markdown",
   "id": "306d8b7c",
   "metadata": {},
   "source": [
    "# Exercise 4 - Custom activation for each layer\n"
   ]
  },
  {
   "cell_type": "markdown",
   "id": "221c7b6c",
   "metadata": {},
   "source": [
    "So far, every layer has used the same activation, ReLU. We often want to use other types of activation however, so we need to update our code to support multiple types of activation functions. Make sure that you have completed every previous exercise before trying this one.\n"
   ]
  },
  {
   "cell_type": "markdown",
   "id": "10896d06",
   "metadata": {},
   "source": [
    "**a)** Complete the `feed_forward` function which accepts a list of activation functions as an argument, and which evaluates these activation functions at each layer.\n"
   ]
  },
  {
   "cell_type": "code",
   "execution_count": 222,
   "id": "de062369",
   "metadata": {},
   "outputs": [],
   "source": [
    "def feed_forward(input, layers, activations):\n",
    "    a = input\n",
    "    for (W, b), activation in zip(layers, activations):\n",
    "        z = W @ a + b\n",
    "        a = activation(z)\n",
    "    return a"
   ]
  },
  {
   "cell_type": "markdown",
   "id": "8f7df363",
   "metadata": {},
   "source": [
    "**b)** Make a list with three activation functions(don't call them yet! you can make a list with function names as elements, and then call these elements of the list later), two ReLU and one sigmoid. (If you add other functions than the ones defined at the start of the notebook, make sure everything is defined using autograd's numpy wrapper, like above, since we want to use automatic differentiation on all of these functions later.)\n",
    "\n",
    "Then evaluate a network with three layers and these activation functions.\n"
   ]
  },
  {
   "cell_type": "code",
   "execution_count": 223,
   "id": "301b46dc",
   "metadata": {},
   "outputs": [
    {
     "data": {
      "text/plain": [
       "array([0.        , 0.58019141, 0.60668437, 0.        , 0.        ,\n",
       "       0.19136724, 0.40277777, 3.34806719])"
      ]
     },
     "execution_count": 223,
     "metadata": {},
     "output_type": "execute_result"
    }
   ],
   "source": [
    "network_input_size = 4\n",
    "layer_output_sizes = [4, 6, 8]\n",
    "activations = [ReLU, sigmoid, ReLU]\n",
    "layers = create_layers(network_input_size, layer_output_sizes)\n",
    "\n",
    "x = np.random.randn(network_input_size)\n",
    "feed_forward(x, layers, activations)"
   ]
  },
  {
   "cell_type": "markdown",
   "id": "a8d6c425",
   "metadata": {},
   "source": [
    "# Exercise 5 - Processing multiple inputs at once\n"
   ]
  },
  {
   "cell_type": "markdown",
   "id": "0f4330a4",
   "metadata": {},
   "source": [
    "So far, the feed forward function has taken one input vector as an input. This vector then undergoes a linear transformation and then an element-wise non-linear operation for each layer. This approach of sending one vector in at a time is great for interpreting how the network transforms data with its linear and non-linear operations, but not the best for numerical efficiency. Now, we want to be able to send many inputs through the network at once. This will make the code a bit harder to understand, but it will make it faster, and more compact. It will be worth the trouble.\n",
    "\n",
    "To process multiple inputs at once, while still performing the same operations, you will only need to flip a couple things around.\n"
   ]
  },
  {
   "cell_type": "markdown",
   "id": "17023bb7",
   "metadata": {},
   "source": [
    "**a)** Complete the function `create_layers_batch` so that the weight matrix is the transpose of what it was when you only sent in one input at a time.\n"
   ]
  },
  {
   "cell_type": "code",
   "execution_count": 224,
   "id": "a241fd79",
   "metadata": {},
   "outputs": [],
   "source": [
    "def create_layers_batch(network_input_size, layer_output_sizes):\n",
    "    layers = []\n",
    "\n",
    "    i_size = network_input_size\n",
    "    for layer_output_size in layer_output_sizes:\n",
    "        W = np.random.randn(layer_output_size, i_size)\n",
    "        b = np.random.randn(layer_output_size)\n",
    "        layers.append((W, b))\n",
    "        \n",
    "        i_size = layer_output_size\n",
    "    return layers"
   ]
  },
  {
   "cell_type": "markdown",
   "id": "a6349db6",
   "metadata": {},
   "source": [
    "**b)** Make a matrix of inputs with the shape (number of features, number of inputs), you choose the number of inputs and features per input. Then complete the function `feed_forward_batch` so that you can process this matrix of inputs with only one matrix multiplication and one broadcasted vector addition per layer. (Hint: You will only need to swap two variable around from your previous implementation, but remember to test that you get the same results for equivelent inputs!)\n"
   ]
  },
  {
   "cell_type": "code",
   "execution_count": 225,
   "id": "425f3bcc",
   "metadata": {},
   "outputs": [],
   "source": [
    "inputs = np.random.rand(1000, 4)  # 1000 samples, 4 features\n",
    "\n",
    "def feed_forward_batch(inputs, layers, activations):\n",
    "    a = inputs\n",
    "    for (W, b), activation in zip(layers, activations):\n",
    "        z = a @ W.T + b  # Adjusted matrix multiplication\n",
    "        a = activation(z)\n",
    "    return a"
   ]
  },
  {
   "cell_type": "markdown",
   "id": "efd07b4e",
   "metadata": {},
   "source": [
    "**c)** Create and evaluate a neural network with 4 inputs and layers with output sizes 12, 10, 3 and activations ReLU, ReLU, softmax.\n"
   ]
  },
  {
   "cell_type": "code",
   "execution_count": 226,
   "id": "ce6fcc2f",
   "metadata": {},
   "outputs": [
    {
     "data": {
      "text/plain": [
       "array([[0.44128731, 0.28713808, 0.27157461],\n",
       "       [0.05053944, 0.90522618, 0.04423439],\n",
       "       [0.1185316 , 0.85978116, 0.02168724],\n",
       "       ...,\n",
       "       [0.54547051, 0.15132348, 0.30320601],\n",
       "       [0.12891949, 0.85373678, 0.01734373],\n",
       "       [0.15408465, 0.80380264, 0.04211271]])"
      ]
     },
     "execution_count": 226,
     "metadata": {},
     "output_type": "execute_result"
    }
   ],
   "source": [
    "network_input_size = 4\n",
    "layer_output_sizes = [12, 10, 3]\n",
    "activations = [ReLU, ReLU, softmax]\n",
    "layers = create_layers_batch(network_input_size, layer_output_sizes)\n",
    "\n",
    "x = np.random.randn(network_input_size)\n",
    "feed_forward_batch(inputs, layers, activations)"
   ]
  },
  {
   "cell_type": "markdown",
   "id": "87999271",
   "metadata": {},
   "source": [
    "You should use this batched approach moving forward, as it will lead to much more compact code. However, remember that each input is still treated separately, and that you will need to keep in mind the transposed weight matrix and other details when implementing backpropagation.\n"
   ]
  },
  {
   "cell_type": "markdown",
   "id": "237eb782",
   "metadata": {},
   "source": [
    "# Exercise 6 - Predicting on real data\n"
   ]
  },
  {
   "cell_type": "markdown",
   "id": "54d5fde7",
   "metadata": {},
   "source": [
    "You will now evaluate your neural network on the iris data set (https://scikit-learn.org/1.5/auto_examples/datasets/plot_iris_dataset.html).\n",
    "\n",
    "This dataset contains data on 150 flowers of 3 different types which can be separated pretty well using the four features given for each flower, which includes the width and length of their leaves. You are will later train your network to actually make good predictions.\n"
   ]
  },
  {
   "cell_type": "code",
   "execution_count": 227,
   "id": "6bd4c148",
   "metadata": {},
   "outputs": [
    {
     "data": {
      "image/png": "[encoded data removed]",
      "text/plain": [
       "<Figure size 640x480 with 1 Axes>"
      ]
     },
     "metadata": {},
     "output_type": "display_data"
    }
   ],
   "source": [
    "iris = datasets.load_iris()\n",
    "\n",
    "_, ax = plt.subplots()\n",
    "scatter = ax.scatter(iris.data[:, 0], iris.data[:, 1], c=iris.target)\n",
    "ax.set(xlabel=iris.feature_names[0], ylabel=iris.feature_names[1])\n",
    "_ = ax.legend(\n",
    "    scatter.legend_elements()[0], iris.target_names, loc=\"lower right\", title=\"Classes\"\n",
    ")\n",
    "\n",
    "plt.savefig('iris_plot.pdf')\n",
    "plt.show()"
   ]
  },
  {
   "cell_type": "code",
   "execution_count": 228,
   "id": "ed3e2fc9",
   "metadata": {},
   "outputs": [],
   "source": [
    "inputs = iris.data\n",
    "\n",
    "# Since each prediction is a vector with a score for each of the three types of flowers,\n",
    "# we need to make each target a vector with a 1 for the correct flower and a 0 for the others.\n",
    "targets = np.zeros((len(iris.data), 3))\n",
    "for i, t in enumerate(iris.target):\n",
    "    targets[i, t] = 1\n",
    "\n",
    "\n",
    "def accuracy(predictions, targets):\n",
    "    one_hot_predictions = np.zeros(predictions.shape)\n",
    "\n",
    "    for i, prediction in enumerate(predictions):\n",
    "        one_hot_predictions[i, np.argmax(prediction)] = 1\n",
    "    return accuracy_score(one_hot_predictions, targets)"
   ]
  },
  {
   "cell_type": "markdown",
   "id": "0362c4a9",
   "metadata": {},
   "source": [
    "**a)** What should the input size for the network be with this dataset? What should the output shape of the last layer be?\n",
    "\n",
    "Input size is the number of features in the dataset: 4. The output shape is the number of flowers: 3."
   ]
  },
  {
   "cell_type": "markdown",
   "id": "bf62607e",
   "metadata": {},
   "source": [
    "**b)** Create a network with two hidden layers, the first with sigmoid activation and the last with softmax, the first layer should have 8 \"nodes\", the second has the number of nodes you found in exercise a). Softmax returns a \"probability distribution\", in the sense that the numbers in the output are positive and add up to 1 and, their magnitude are in some sense relative to their magnitude before going through the softmax function. Remember to use the batched version of the create_layers and feed forward functions.\n"
   ]
  },
  {
   "cell_type": "code",
   "execution_count": 229,
   "id": "5366d4ae",
   "metadata": {},
   "outputs": [],
   "source": [
    "activations = [sigmoid, softmax]\n",
    "layers = create_layers_batch(4, [8, 3])"
   ]
  },
  {
   "cell_type": "markdown",
   "id": "c528846f",
   "metadata": {},
   "source": [
    "**c)** Evaluate your model on the entire iris dataset! For later purposes, we will split the data into train and test sets, and compute gradients on smaller batches of the training data. But for now, evaluate the network on the whole thing at once.\n"
   ]
  },
  {
   "cell_type": "code",
   "execution_count": 230,
   "id": "6c783105",
   "metadata": {},
   "outputs": [],
   "source": [
    "predictions = feed_forward_batch(inputs, layers, activations)"
   ]
  },
  {
   "cell_type": "markdown",
   "id": "01a3caa8",
   "metadata": {},
   "source": [
    "**d)** Compute the accuracy of your model using the accuracy function defined above. Recreate your model a couple times and see how the accuracy changes.\n"
   ]
  },
  {
   "cell_type": "code",
   "execution_count": 231,
   "id": "a2612b82",
   "metadata": {},
   "outputs": [
    {
     "name": "stdout",
     "output_type": "stream",
     "text": [
      "0.3333333333333333\n"
     ]
    }
   ],
   "source": [
    "print(accuracy(predictions, targets))"
   ]
  },
  {
   "cell_type": "markdown",
   "id": "334560b6",
   "metadata": {},
   "source": [
    "# Exercise 7 - Training on real data\n",
    "\n",
    "To be able to actually do anything useful with your neural network, you need to train it. For this, we need a cost function and a way to take the gradient of the cost function wrt. the network parameters. The following exercises guide you through taking the gradient using autograd, and updating the network parameters using the gradient. Feel free to implement gradient methods like ADAM if you finish everything.\n"
   ]
  },
  {
   "cell_type": "markdown",
   "id": "700cabe4",
   "metadata": {},
   "source": [
    "The cross-entropy loss function can evaluate performance on classification tasks. It sees if your prediction is \"most certain\" on the correct target.\n"
   ]
  },
  {
   "cell_type": "code",
   "execution_count": 232,
   "id": "56bef776",
   "metadata": {},
   "outputs": [],
   "source": [
    "from autograd import grad\n",
    "\n",
    "\n",
    "def cost(input, layers, activations, target):\n",
    "    predict = feed_forward_batch(input, layers, activations)\n",
    "    return cross_entropy(predict, target)\n",
    "\n",
    "\n",
    "def cross_entropy(predict, target):\n",
    "    return np.sum(-target * np.log(predict))\n",
    "\n",
    "\n",
    "gradient_func = grad(\n",
    "    cost, 1  # Mistake in the original. Should be \"cost\" not \"cross_entropy\"\n",
    ")  # Taking the gradient wrt. the second input to the cost function"
   ]
  },
  {
   "cell_type": "markdown",
   "id": "7b1b74bc",
   "metadata": {},
   "source": [
    "**a)** What shape should the gradient of the cost function wrt. weights and biases be?\n",
    "\n",
    "The gradient of the cost function w.r.t. weights and biases should have shape (output_size, input_size) and (output_size,) respectively.\n",
    "\n",
    "**b)** Use the `gradient_func` function to take the gradient of the cross entropy wrt. the weights and biases of the network. Check the shapes of what's inside. What does the `grad` func from autograd actually do?\n"
   ]
  },
  {
   "cell_type": "code",
   "execution_count": 233,
   "id": "841c9e87",
   "metadata": {},
   "outputs": [],
   "source": [
    "layers_grad = gradient_func(inputs, layers, activations, targets)  # Don't change this"
   ]
  },
  {
   "cell_type": "markdown",
   "id": "adc9e9be",
   "metadata": {},
   "source": [
    "**c)** Finish the `train_network` function.\n"
   ]
  },
  {
   "cell_type": "code",
   "execution_count": 234,
   "id": "6e4d38d3",
   "metadata": {},
   "outputs": [],
   "source": [
    "def train_network(\n",
    "    inputs, layers, activations, targets, learning_rate=0.001, epochs=101\n",
    "):\n",
    "    accuracies = []  # List to store accuracies over epochs\n",
    "    for i in range(epochs):\n",
    "        layers_grad = gradient_func(inputs, layers, activations, targets)\n",
    "        for (W, b), (W_g, b_g) in zip(layers, layers_grad):\n",
    "            W -= learning_rate * W_g\n",
    "            b -= learning_rate * b_g\n",
    "\n",
    "        # Track accuracy\n",
    "        predictions = feed_forward_batch(inputs, layers, activations)\n",
    "        accuracy_value = accuracy(predictions, targets)\n",
    "        accuracies.append(accuracy_value)\n",
    "\n",
    "    return layers, accuracies"
   ]
  },
  {
   "cell_type": "markdown",
   "id": "2f65d663",
   "metadata": {},
   "source": [
    "**d)** What do we call the gradient method used above?\n",
    "\n",
    "Batch gradient decent"
   ]
  },
  {
   "cell_type": "markdown",
   "id": "7059dd8c",
   "metadata": {},
   "source": [
    "**e)** Train your network and see how the accuracy changes! Make a plot if you want.\n"
   ]
  },
  {
   "cell_type": "code",
   "execution_count": 235,
   "id": "5027c7a5",
   "metadata": {},
   "outputs": [
    {
     "data": {
      "image/png": "[encoded data removed]",
      "text/plain": [
       "<Figure size 800x600 with 1 Axes>"
      ]
     },
     "metadata": {},
     "output_type": "display_data"
    }
   ],
   "source": [
    "epochs = 201\n",
    "layers, training_accuracies = train_network(inputs, layers, activations, targets, epochs=epochs)\n",
    "plt.figure(figsize=(8, 6))\n",
    "plt.plot(range(0, epochs), training_accuracies, marker='o')\n",
    "plt.title('Training Accuracy over Epochs')\n",
    "plt.xlabel('Epochs')\n",
    "plt.ylabel('Accuracy')\n",
    "plt.grid()\n",
    "plt.savefig('accuracy.pdf')\n",
    "plt.show()"
   ]
  },
  {
   "cell_type": "markdown",
   "id": "3bc77016",
   "metadata": {},
   "source": [
    "**f)** How high of an accuracy is it possible to acheive with a neural network on this dataset, if we use the whole thing as training data?\n",
    "\n",
    "As can be seen in the figure at the start of exercise 6 we see that Setosa is essentially completely separated from the other two based on . Thus one would expect to be able to obtain nearly 100% accuracy in predicting Setosa. Versicolor and Virginica is a bit harder but from simply running 10000 epochs we see that we can still expect ~ 90%-95% accuracy. Thus we should be able to achieve\n",
    "$$\\rm Accuracy\\simeq \\frac{1}{3}(100\\%)+\\frac{2}{3}(93\\%)\\approx 95\\%.$$"
   ]
  }
 ],
 "metadata": {
  "kernelspec": {
   "display_name": "Python 3",
   "language": "python",
   "name": "python3"
  },
  "language_info": {
   "codemirror_mode": {
    "name": "ipython",
    "version": 3
   },
   "file_extension": ".py",
   "mimetype": "text/x-python",
   "name": "python",
   "nbconvert_exporter": "python",
   "pygments_lexer": "ipython3",
   "version": "3.12.5"
  }
 },
 "nbformat": 4,
 "nbformat_minor": 5
}
